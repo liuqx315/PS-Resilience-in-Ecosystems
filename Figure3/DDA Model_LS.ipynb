{
 "cells": [
  {
   "cell_type": "markdown",
   "metadata": {},
   "source": [
    "## This code simulate the density-dependent aggregation model (DDA, Eq. 3) on manuscript entitled with \"Phase-separation physics underlies new theory for the resilience of patchy ecosystems\"\n",
    "\n",
    "The mathematical model is described by\n",
    "$$$$\n",
    "$$.$$\n",
    "\n",
    "$$\n",
    "\\left.\n",
    "    \\begin{array}\\\\\n",
    "        \\frac{\\partial u}{\\partial t} = vu - \\frac{\\alpha}{\\beta+u}u + \\delta \\Big(\\frac{\\partial^2 u}{\\partial x^2}+\\frac{\\partial^2 u}{\\partial y^2}\\Big) \\\\\n",
    "        \\frac{\\partial v}{\\partial t} = -vu +\\frac{\\alpha}{\\beta+u}u+ \\Big(\\frac{\\partial^2 v}{\\partial x^2}+\\frac{\\partial^2 v}{\\partial y^2}\\Big)\n",
    "    \\end{array}\n",
    "\\right \\} \\mbox{DDA model}\n",
    "$$\n",
    "\n",
    "with $\\langle\\tau\\rangle=\\bar{u}+\\bar{v}$."
   ]
  },
  {
   "cell_type": "code",
   "execution_count": 1,
   "metadata": {},
   "outputs": [],
   "source": [
    "%reset -f \n",
    "from __future__ import absolute_import, print_function\n",
    "import time\n",
    "import numpy as np\n",
    "import pyopencl as cl\n",
    "import matplotlib.pyplot as plt\n",
    "import matplotlib.animation as animation\n",
    "from scipy import signal\n",
    "from matplotlib import rcParams\n",
    "from scipy import io\n",
    "import os\n",
    "import imageio\n",
    "import locale\n",
    "os.environ[\"PYTHONIOENCODING\"] = \"utf-8\""
   ]
  },
  {
   "cell_type": "code",
   "execution_count": 2,
   "metadata": {},
   "outputs": [
    {
     "data": {
      "text/html": [
       "<style>.container { width:90% !important; }</style>"
      ],
      "text/plain": [
       "<IPython.core.display.HTML object>"
      ]
     },
     "metadata": {},
     "output_type": "display_data"
    }
   ],
   "source": [
    "# Widening the screen\n",
    "from IPython.core.display import display, HTML\n",
    "display(HTML(\"<style>.container { width:90% !important; }</style>\"))\n",
    "\n",
    "rcParams['figure.dpi'] = 600\n",
    "rcParams['font.size'] = 16\n",
    "rcParams['font.family'] = 'StixGeneral'\n",
    "rcParams[\"mathtext.fontset\"] = 'stix'\n",
    "rcParams['animation.embed_limit'] = 2**128\n",
    "plt.rc('font', size=16)          # controls default text sizes\n",
    "plt.rc('axes', titlesize=16)     # fontsize of the axes title\n",
    "plt.rc('axes', labelsize=16)     # fontsize of the x and y labels\n",
    "plt.rc('xtick', labelsize=16)    # fontsize of the tick labels\n",
    "plt.rc('ytick', labelsize=16)    # fontsize of the tick labels\n",
    "plt.rc('legend', fontsize=16)    # legend fontsize\n",
    "plt.rc('figure', titlesize=16)   # fontsize of the figure title\n",
    "\n",
    "if not os.path.exists(\"Data\"):\n",
    "    os.makedirs(\"Data\")"
   ]
  },
  {
   "cell_type": "markdown",
   "metadata": {},
   "source": [
    "### Parameter definition "
   ]
  },
  {
   "cell_type": "code",
   "execution_count": 3,
   "metadata": {},
   "outputs": [],
   "source": [
    "# parameters in the dimensionless model\n",
    "a=4.0;   # Alpha in the model \n",
    "b=1.0;   # Beta in the model\n",
    "T=4.0;   # Tau in the model\n",
    "Da=1.0/16; # Delta in model\n",
    "Db=1.0;"
   ]
  },
  {
   "cell_type": "markdown",
   "metadata": {},
   "source": [
    "### Simulation settings"
   ]
  },
  {
   "cell_type": "code",
   "execution_count": 4,
   "metadata": {},
   "outputs": [],
   "source": [
    "length    = 512.0      # 2.5 Length of the physical landscape\n",
    "n         = 1024       # Size of the 2D grid\n",
    "endtime   = 1.0e5    # end time\n",
    "dT        = 0.02       # 0.02     #calculate time step\n",
    "nplot     = 200\n",
    "# nsteps    = np.ceil(endtime/nplot/dT).astype(int)    # number of time steps\n",
    "LogTimeImages=np.logspace(np.log10(1),np.log10(endtime),nplot+1)\n",
    "nstepsARRAY=np.diff(LogTimeImages)/dT\n",
    "nstepsARRAY=nstepsARRAY.astype(int)\n",
    "# print(nstepsARRAY)\n",
    "# print(len(nstepsARRAY))\n",
    "# print(nstepsARRAY[10])"
   ]
  },
  {
   "cell_type": "markdown",
   "metadata": {},
   "source": [
    "### Precalculations"
   ]
  },
  {
   "cell_type": "code",
   "execution_count": 5,
   "metadata": {},
   "outputs": [
    {
     "name": "stdout",
     "output_type": "stream",
     "text": [
      " Current grid dimensions: 1024 x 1024 cells\n",
      "\n"
     ]
    }
   ],
   "source": [
    "dX = length/n      # Spatial step size\n",
    "dY = length/n      # Spatial step size\n",
    "Grid_Width  = n\n",
    "Grid_Height = n\n",
    "# %% Reporting in the simulation on the console\n",
    "print(\" Current grid dimensions: %d x %d cells\\n\" % (Grid_Width, Grid_Height));"
   ]
  },
  {
   "cell_type": "markdown",
   "metadata": {},
   "source": [
    "### Defining the device that is used"
   ]
  },
  {
   "cell_type": "code",
   "execution_count": 6,
   "metadata": {},
   "outputs": [
    {
     "name": "stdout",
     "output_type": "stream",
     "text": [
      " Compute Device: AMD Radeon Pro 5700 XT Compute Engine\n",
      "\n"
     ]
    }
   ],
   "source": [
    "# Setting up the OpenCL context\n",
    "DeviceNr = 1   # 0 = GTX 960M\n",
    "platform = cl.get_platforms()\n",
    "Devices  = platform[0].get_devices()  # 0 = GPU\n",
    "context  = cl.Context([Devices[DeviceNr]])\n",
    "queue    = cl.CommandQueue(context)\n",
    "mf       = cl.mem_flags # Memory flags are set\n",
    "print(\" Compute Device: %s\\n\" % Devices[DeviceNr].name)"
   ]
  },
  {
   "cell_type": "code",
   "execution_count": null,
   "metadata": {
    "scrolled": true
   },
   "outputs": [
    {
     "name": "stdout",
     "output_type": "stream",
     "text": [
      "Progress :\n"
     ]
    },
    {
     "data": {
      "application/vnd.jupyter.widget-view+json": {
       "model_id": "79cbe39cd46f4b8eb16a567488f4dc6a",
       "version_major": 2,
       "version_minor": 0
      },
      "text/plain": [
       "FloatProgress(value=0.0, max=200.0)"
      ]
     },
     "metadata": {},
     "output_type": "display_data"
    }
   ],
   "source": [
    "for kk in range(1,10):\n",
    "    # The array is allocated on the GPU and the initial values are copied onto it\n",
    "    A0       = (T-b+np.sqrt((T-b)**2-(a-T*b)))/2\n",
    "    A        = A0 + (np.random.rand(n*n)-0.5)*0.1\n",
    "    #(np.sqrt(a)-b + np.sqrt(a/c)-b)/2 + (np.random.rand(n*n)-0.5)\n",
    "    A_host   = A.astype(np.float32)\n",
    "    A_g      = cl.Buffer(context, mf.READ_WRITE | mf.COPY_HOST_PTR, hostbuf=A_host)\n",
    "\n",
    "    B0       = T-A0\n",
    "    B        = B0 + (np.random.rand(n*n)-0.5)*0.1\n",
    "    B_host   = B.astype(np.float32)\n",
    "    B_g      = cl.Buffer(context, mf.READ_WRITE | mf.COPY_HOST_PTR, hostbuf=B_host)\n",
    "\n",
    "    with open('SpatialFunctions_iPy.cl', 'r',encoding='utf-8') as myfile:\n",
    "       SpatialFunctions = myfile.read()\n",
    "\n",
    "    PassVars=\"Da,a,b,Db,dX,dY,dT,Grid_Width,Grid_Height\"\n",
    "\n",
    "    PassVals=eval(PassVars)\n",
    "    PassVars=PassVars.split(',')\n",
    "    Params=\"\"\n",
    "\n",
    "    for ii in range(len(PassVals)):\n",
    "        Params = Params+\"#define \" + PassVars[ii] + \" \" + str(PassVals[ii]) + \" \\n\"\n",
    "\n",
    "    ComputeCode = \"\"\"\n",
    "\n",
    "    ///////////////////////////////////////////////////////////////////////////////\n",
    "    // Simulation kernel\n",
    "    ///////////////////////////////////////////////////////////////////////////////   \n",
    "\n",
    "    __kernel void SimulationKernel (__global float* A, __global float* B)\n",
    "    {\n",
    "        size_t current  = get_global_id(0);\n",
    "        size_t row      = floor((float)current/(float)Grid_Width);\n",
    "        size_t column   = current%Grid_Width;\n",
    "\n",
    "            if (row > 0 && row < Grid_Width-1 && column > 0 && column < Grid_Height-1)\n",
    "                {\n",
    "                 float dAdt =   A[current]*B[current] - a*A[current]/(A[current]+b) + Da*d2_dxy2(A);\n",
    "                 float dBdt =   a*A[current]/(A[current]+b) - A[current]*B[current] + Db*d2_dxy2(B);\n",
    "\n",
    "                 A[current] = A[current] + dAdt*dT;\n",
    "                 B[current] = B[current] + dBdt*dT;\n",
    "                }\n",
    "\n",
    "            // HANDLE Boundaries\n",
    "            else \n",
    "                {\n",
    "                 NeumannBoundaries(A);\n",
    "                 NeumannBoundaries(B);\n",
    "                }\n",
    "\n",
    "    } // End SimulationKernel\n",
    "    \"\"\"\n",
    "\n",
    "    program = cl.Program(context, Params + SpatialFunctions + ComputeCode).build()\n",
    "    from ipywidgets import FloatProgress\n",
    "    from IPython.display import display\n",
    "\n",
    "    # Setting up a progress bar for the simulation\n",
    "    print(\"Progress :\");\n",
    "    PB = FloatProgress(min=0, max=nplot); display(PB) \n",
    "\n",
    "    As=np.zeros((Grid_Width, Grid_Height, nplot))\n",
    "    Bs=np.zeros((Grid_Width, Grid_Height, nplot))\n",
    "\n",
    "    # Set up simulation parameters\n",
    "    global_size = A_host.shape\n",
    "\n",
    "    # Start the timer:\n",
    "    start_time = time.time()\n",
    "    import os\n",
    "    if not os.path.exists(\"Data\"):\n",
    "        os.makedirs(\"Data\")\n",
    "\n",
    "    # Starting the loop\n",
    "    for ii in range(1,nplot):\n",
    "        # The simulation\n",
    "        for jj in range(1,nstepsARRAY[ii]):      \n",
    "            program.SimulationKernel(queue, global_size, None, A_g, B_g)\n",
    "\n",
    "        # Get the data from the GPU\n",
    "        cl.enqueue_copy(queue, A_host, A_g)\n",
    "        cl.enqueue_copy(queue, B_host, B_g)\n",
    "\n",
    "        # We store the state of the system for <NumPlot> different times.\n",
    "        As[:,:,ii] = A_host.reshape(Grid_Width, Grid_Height)\n",
    "        Bs[:,:,ii] = B_host.reshape(Grid_Width, Grid_Height)\n",
    "        # imageio.imwrite('Data/DDA_%03d'% (ii) +'.png',As[:,:,ii])\n",
    "        PB.value += 1 # signal to increment the progress bar\n",
    "\n",
    "    # Determining the time that we used for the simulation\n",
    "    elapsed_time = time.time() - start_time    \n",
    "    print(\" Simulation took      : %1.1f (s)\" % (elapsed_time))\n",
    "\n",
    "    io.savemat('Data/DDA_LSdata'+str(kk)+'.mat', {'A': As, 'Time': LogTimeImages})\n",
    "    "
   ]
  },
  {
   "cell_type": "code",
   "execution_count": null,
   "metadata": {},
   "outputs": [],
   "source": [
    "# from scipy import io\n",
    "# import os\n",
    "# if not os.path.exists(\"Data\"):\n",
    "#     os.makedirs(\"Data\")\n",
    "# io.savemat('Data/DDA_LSdataxx.mat', {'A': As, 'Time': LogTimeImages})\n",
    "\n",
    "# load data: mathfn.mat from Matlab\n",
    "# data = io.loadmat(matfn) "
   ]
  },
  {
   "cell_type": "markdown",
   "metadata": {},
   "source": [
    "# Plotting the results"
   ]
  },
  {
   "cell_type": "code",
   "execution_count": null,
   "metadata": {},
   "outputs": [],
   "source": [
    "# ### The Simulation loop\n",
    "# from matplotlib import ticker\n",
    "# # plot_color_gradients('Sequential',\n",
    "# #                      ['Greys', 'Purples', 'Blues', 'Greens', 'Oranges', 'Reds',\n",
    "# #                       'YlOrBr', 'YlOrRd', 'OrRd', 'PuRd', 'RdPu', 'BuPu',\n",
    "# #                       'GnBu', 'PuBu', 'YlGnBu', 'PuBuGn', 'BuGn', 'YlGn'])\n",
    "# # plot_color_gradients('Sequential (2)',\n",
    "# #                      ['binary', 'gist_yarg', 'gist_gray', 'gray', 'bone',\n",
    "# #                       'pink', 'spring', 'summer', 'autumn', 'winter', 'cool',\n",
    "# #                       'Wistia', 'hot', 'afmhot', 'gist_heat', 'copper'])\n",
    "\n",
    "# orig_map=plt.cm.get_cmap('copper') # viridis  YlGn, summer\n",
    "# reversed_map = orig_map.reversed()\n",
    "\n",
    "# fig, ax = plt.subplots(1, 2, figsize=(16, 8))\n",
    "# im0 = ax[0].imshow(A_host.reshape(n,n),cmap=reversed_map,extent=[0,length,0,length],clim=(0,10));#, clim=(0,0.1));\n",
    "# ax[0].set_title('$u$ density (g/m$^2$)');\n",
    "# cbar=plt.colorbar(im0, ax=ax[0],fraction=0.046,pad=0.04);\n",
    "# # ax[0].set_yticks(np.linspace(0,length,5))\n",
    "# tick_locator = ticker.MaxNLocator(nbins=5)\n",
    "# cbar.locator = tick_locator\n",
    "# cbar.update_ticks()\n",
    "\n",
    "# im1 = ax[1].imshow(B_host.reshape(n,n),cmap=reversed_map,extent=[0,length,0,length],clim=(0,1.5));#, clim=(0,0.5));\n",
    "# ax[1].set_title('$v$ density (g/m$^2$)');\n",
    "# cbar=plt.colorbar(im1, ax=ax[1],fraction=0.046,pad=0.04);\n",
    "# # ax[1].set_yticks(np.linspace(0,length,5))\n",
    "# tick_locator = ticker.MaxNLocator(nbins=5)\n",
    "# cbar.locator = tick_locator\n",
    "# cbar.update_ticks()\n",
    "\n",
    "# text=fig.suptitle(\"Time: %1.0f of %1.0f\" % (endtime, endtime), x=0.5, y=0.1, fontsize=16);"
   ]
  },
  {
   "cell_type": "markdown",
   "metadata": {},
   "source": [
    "# Making a movie"
   ]
  },
  {
   "cell_type": "code",
   "execution_count": null,
   "metadata": {},
   "outputs": [],
   "source": [
    "# from matplotlib import animation, rc\n",
    "# if not os.path.exists(\"Images\"):\n",
    "#     os.makedirs(\"Images\")\n",
    "    \n",
    "# def updatefig(i): # To update the image at each iteration\n",
    "#     global As, Bs\n",
    "#     im0.set_array(As[:,:,i])\n",
    "#     im1.set_array(Bs[:,:,i])\n",
    "#     text.set_text(\"Time: %1.0f of %1.0f\" % ((i+1)/nplot*endtime, endtime));\n",
    "# #     fig.savefig('Images/DDA_Images%03d' % (i)+'.pdf',bbox_inches='tight',dpi=600)\n",
    "#     return im0,im1,\n",
    "\n",
    "# ani = animation.FuncAnimation(fig, updatefig, interval=200, frames = nplot, repeat=False, blit=True)\n",
    "# print(\"Save figure finshes!\")"
   ]
  },
  {
   "cell_type": "code",
   "execution_count": null,
   "metadata": {
    "scrolled": true
   },
   "outputs": [],
   "source": [
    "# from IPython.display import HTML\n",
    "# HTML(ani.to_html5_video()) \n",
    " \n",
    "# # write to an mp4 movie or 'avconv' or 'imagemagick' or 'ffmpeg'\n",
    "# Writer = animation.writers['ffmpeg'] \n",
    "# writer = Writer(fps=10, bitrate=1800)\n",
    "# ani.save('Movie_DDA.mp4', writer=writer,dpi=600)\n",
    "# print(\"Save movies finshes!\")"
   ]
  },
  {
   "cell_type": "markdown",
   "metadata": {},
   "source": [
    "## The End, Quan-Xing Liu. 2022.0407"
   ]
  }
 ],
 "metadata": {
  "kernelspec": {
   "display_name": "Python 3",
   "language": "python",
   "name": "python3"
  },
  "language_info": {
   "codemirror_mode": {
    "name": "ipython",
    "version": 3
   },
   "file_extension": ".py",
   "mimetype": "text/x-python",
   "name": "python",
   "nbconvert_exporter": "python",
   "pygments_lexer": "ipython3",
   "version": "3.8.10"
  }
 },
 "nbformat": 4,
 "nbformat_minor": 4
}
