{
 "cells": [
  {
   "cell_type": "code",
   "execution_count": 1,
   "metadata": {},
   "outputs": [],
   "source": [
    "from __future__ import absolute_import, print_function\n",
    "import time\n",
    "import numpy as np\n",
    "import pyopencl as cl\n",
    "import matplotlib.pyplot as plt\n",
    "import matplotlib.animation as animation\n",
    "from scipy import signal\n",
    "from matplotlib import rcParams\n",
    "from scipy import io\n",
    "import os\n",
    "\n",
    "import locale\n",
    "os.environ[\"PYTHONIOENCODING\"] = \"utf-8\"\n",
    "# scriptLocale=locale.setlocale(category=locale.LC_ALL, locale=\"en_GB.UTF-8\")"
   ]
  },
  {
   "cell_type": "code",
   "execution_count": 2,
   "metadata": {},
   "outputs": [
    {
     "data": {
      "text/html": [
       "<style>.container { width:90% !important; }</style>"
      ],
      "text/plain": [
       "<IPython.core.display.HTML object>"
      ]
     },
     "metadata": {},
     "output_type": "display_data"
    }
   ],
   "source": [
    "# Widening the screen\n",
    "from IPython.core.display import display, HTML\n",
    "display(HTML(\"<style>.container { width:90% !important; }</style>\"))\n",
    "\n",
    "rcParams['figure.dpi'] = 600\n",
    "rcParams['font.size'] = 16\n",
    "rcParams['font.family'] = 'StixGeneral'\n",
    "plt.rc('font', size=16)          # controls default text sizes\n",
    "plt.rc('axes', titlesize=16)     # fontsize of the axes title\n",
    "plt.rc('axes', labelsize=16)     # fontsize of the x and y labels\n",
    "plt.rc('xtick', labelsize=16)    # fontsize of the tick labels\n",
    "plt.rc('ytick', labelsize=16)    # fontsize of the tick labels\n",
    "plt.rc('legend', fontsize=16)    # legend fontsize\n",
    "plt.rc('figure', titlesize=16)   # fontsize of the figure title"
   ]
  },
  {
   "cell_type": "markdown",
   "metadata": {},
   "source": [
    "### Simulation settings"
   ]
  },
  {
   "cell_type": "code",
   "execution_count": 3,
   "metadata": {},
   "outputs": [],
   "source": [
    "length    = 1024.0       # 2.5 Length of the physical landscape\n",
    "n         = 1024         # Size of the 2D grid\n",
    "endtime   = 2000.0       # end time\n",
    "dT        = 0.02         # 0.02     #calculate time step\n",
    "nplot     = 100\n",
    "nsteps    = np.ceil(endtime/nplot/dT).astype(int)    #number of time steps"
   ]
  },
  {
   "cell_type": "markdown",
   "metadata": {},
   "source": [
    "### Precalculations"
   ]
  },
  {
   "cell_type": "code",
   "execution_count": 4,
   "metadata": {},
   "outputs": [
    {
     "name": "stdout",
     "output_type": "stream",
     "text": [
      " Current grid dimensions: 1024 x 1024 cells\n",
      "\n"
     ]
    }
   ],
   "source": [
    "dX = 1.0 #length/n      # Spatial step size\n",
    "dY = 1.0 #length/n      # Spatial step size\n",
    "Grid_Width  = n\n",
    "Grid_Height = n\n",
    "# %% Reporting in the simulation on the console\n",
    "print(\" Current grid dimensions: %d x %d cells\\n\" % (Grid_Width, Grid_Height));"
   ]
  },
  {
   "cell_type": "markdown",
   "metadata": {},
   "source": [
    "### Defining the device that is used"
   ]
  },
  {
   "cell_type": "code",
   "execution_count": 5,
   "metadata": {},
   "outputs": [
    {
     "name": "stdout",
     "output_type": "stream",
     "text": [
      " Compute Device: Intel(R) Core(TM) i7-10700K CPU @ 3.80GHz\n",
      "\n"
     ]
    }
   ],
   "source": [
    "# Setting up the OpenCL context\n",
    "DeviceNr = 0   # 0 = GTX 960M\n",
    "platform = cl.get_platforms()\n",
    "Devices  = platform[0].get_devices()  # 0 = GPU\n",
    "context  = cl.Context([Devices[DeviceNr]])\n",
    "queue    = cl.CommandQueue(context)\n",
    "mf       = cl.mem_flags # Memory flags are set\n",
    "print(\" Compute Device: %s\\n\" % Devices[DeviceNr].name)"
   ]
  },
  {
   "cell_type": "markdown",
   "metadata": {},
   "source": [
    "### Parameter definition "
   ]
  },
  {
   "cell_type": "code",
   "execution_count": 6,
   "metadata": {},
   "outputs": [],
   "source": [
    "#parameter\n",
    "a=4.0;    \n",
    "b=1.0;\n",
    "T=7.0;\n",
    "Da=1/16;\n",
    "Db=1.0;\n",
    "DeltaMin=1.0/50.0\n",
    "DeltaMax=1./2.0\n",
    "BioMax=20.0\n",
    "BioMin=1.0"
   ]
  },
  {
   "cell_type": "code",
   "execution_count": 7,
   "metadata": {},
   "outputs": [
    {
     "data": {
      "text/plain": [
       "0.499637635927418"
      ]
     },
     "execution_count": 7,
     "metadata": {},
     "output_type": "execute_result"
    }
   ],
   "source": [
    "np.mean(np.mean(np.random.rand(n*n)))"
   ]
  },
  {
   "cell_type": "markdown",
   "metadata": {},
   "source": [
    "### Initial values"
   ]
  },
  {
   "cell_type": "code",
   "execution_count": 8,
   "metadata": {},
   "outputs": [],
   "source": [
    "# The array is allocated on the GPU and the initial values are copied onto it\n",
    "T        = np.tile(np.logspace(np.log10(BioMin),np.log10(BioMax),n),n) #np.tile(np.linspace(BioMin,BioMax,n),n) # total biomass X-axis\n",
    "A        = 0.4*T + (np.random.rand(n*n)-0.5)*0.1\n",
    "#(np.sqrt(a)-b + np.sqrt(a/c)-b)/2 + (np.random.rand(n*n)-0.5)\n",
    "A_host   = A.astype(np.float32)\n",
    "A_g      = cl.Buffer(context, mf.READ_WRITE | mf.COPY_HOST_PTR, hostbuf=A_host)\n",
    "\n",
    "B        = 0.6*T + (np.random.rand(n*n)-0.5)*0.0\n",
    "B_host   = B.astype(np.float32)\n",
    "B_g      = cl.Buffer(context, mf.READ_WRITE | mf.COPY_HOST_PTR, hostbuf=B_host)\n",
    "\n",
    "#Da array -> GPU diffusion Da/Db=Delta\n",
    "# np.logspace(np.log10(Par_max),np.log10(Par_min),n).repeat(n)\n",
    "Da_arr        =  np.logspace(np.log10(DeltaMin),np.log10(DeltaMax),n).repeat(n) #np.linspace(DeltaMax,DeltaMin,n).repeat(n) # y-axis\n",
    "Da_arr_host   = Da_arr.astype(np.float32)\n",
    "Da_arr_g      = cl.Buffer(context, mf.READ_WRITE | mf.COPY_HOST_PTR, hostbuf=Da_arr_host)\n"
   ]
  },
  {
   "cell_type": "code",
   "execution_count": 9,
   "metadata": {},
   "outputs": [],
   "source": [
    "# plt.imshow(Da_arr_host.reshape(Grid_Width, Grid_Height),cmap='YlGn',extent=[0,length,0,length])\n",
    "# Xlabels = np.linspace(0,length,4).round(1)\n",
    "# Ylabels = np.linspace(0,length,4).round(1)\n",
    "# plt.yticks(Ylabels,color='black',rotation=90) \n",
    "# plt.xticks(Xlabels,color='black',rotation=0) \n",
    "# cbar=plt.colorbar(fraction=0.046,pad=0.04);\n"
   ]
  },
  {
   "cell_type": "code",
   "execution_count": 10,
   "metadata": {},
   "outputs": [
    {
     "data": {
      "text/plain": [
       "<pyopencl._cl.NannyEvent at 0x7fbffda6b2c0>"
      ]
     },
     "execution_count": 10,
     "metadata": {},
     "output_type": "execute_result"
    }
   ],
   "source": [
    "T_host   = T.astype(np.float32)\n",
    "T_g      = cl.Buffer(context, mf.READ_WRITE | mf.COPY_HOST_PTR, hostbuf=T_host)\n",
    "\n",
    "cl.enqueue_copy(queue, T_host, T_g)\n",
    "# plt.imshow(A_host.reshape(Grid_Width, Grid_Height),cmap='YlGn',extent=[0,length,0,length])\n",
    "# cbar=plt.colorbar(fraction=0.046,pad=0.04);"
   ]
  },
  {
   "cell_type": "code",
   "execution_count": 11,
   "metadata": {},
   "outputs": [
    {
     "data": {
      "text/plain": [
       "<pyopencl._cl.NannyEvent at 0x7fbffda49860>"
      ]
     },
     "execution_count": 11,
     "metadata": {},
     "output_type": "execute_result"
    }
   ],
   "source": [
    "#Da is X or Y ?\n",
    "cl.enqueue_copy(queue, Da_arr_host, Da_arr_g)\n",
    "# plt.imshow(Da_arr_host.reshape(Grid_Width, Grid_Height),cmap='YlGn',extent=[0,length,0,length])\n",
    "# cbar=plt.colorbar(fraction=0.046,pad=0.04);"
   ]
  },
  {
   "cell_type": "code",
   "execution_count": 12,
   "metadata": {},
   "outputs": [],
   "source": [
    "with open('SpatialFunctions_iPy.cl', 'r',encoding='utf-8') as myfile:\n",
    "   SpatialFunctions = myfile.read()"
   ]
  },
  {
   "cell_type": "markdown",
   "metadata": {},
   "source": [
    "### Defining the OpenCL simulation kernel"
   ]
  },
  {
   "cell_type": "code",
   "execution_count": 13,
   "metadata": {},
   "outputs": [],
   "source": [
    "# List of parameters for the OpenCL kernel. Seperate with comma without spaces\n",
    "# Setting up the parameters for the Kernel\n",
    "\n",
    "PassVars=\"Da,a,b,Db,dX,dY,dT,Grid_Width,Grid_Height\"\n",
    "\n",
    "PassVals=eval(PassVars)\n",
    "PassVars=PassVars.split(',')\n",
    "Params=\"\"\n",
    "\n",
    "for ii in range(len(PassVals)):\n",
    "    Params = Params+\"#define \" + PassVars[ii] + \" \" + str(PassVals[ii]) + \" \\n\""
   ]
  },
  {
   "cell_type": "code",
   "execution_count": 14,
   "metadata": {},
   "outputs": [],
   "source": [
    "ComputeCode = \"\"\"\n",
    "\n",
    "///////////////////////////////////////////////////////////////////////////////\n",
    "// Simulation kernel\n",
    "///////////////////////////////////////////////////////////////////////////////   \n",
    "\n",
    "__kernel void SimulationKernel (__global float* A, __global float* B, __global float* Da_arr)\n",
    "{\n",
    "    size_t current  = get_global_id(0);\n",
    "    size_t row      = floor((float)current/(float)Grid_Width);\n",
    "    size_t column   = current%Grid_Width;\n",
    "\n",
    "        if (row > 0 && row < Grid_Width-1 && column > 0 && column < Grid_Height-1)\n",
    "            {\n",
    "             float dAdt =   A[current]*B[current] - a*A[current]/(A[current]+b) + Da_arr[current]*d2_dxy2(A);\n",
    "             float dBdt =   a*A[current]/(A[current]+b) - A[current]*B[current] + Db*d2_dxy2(B);\n",
    "             \n",
    "             A[current] = A[current] + dAdt*dT;\n",
    "             B[current] = B[current] + dBdt*dT;\n",
    "            }\n",
    "            \n",
    "        // HANDLE Boundaries\n",
    "        else \n",
    "            {\n",
    "             NeumannBoundaries(A);\n",
    "             NeumannBoundaries(B);\n",
    "            }\n",
    "\n",
    "} // End SimulationKernel\n",
    "\"\"\""
   ]
  },
  {
   "cell_type": "markdown",
   "metadata": {},
   "source": [
    "### Here the kernel is compiled"
   ]
  },
  {
   "cell_type": "code",
   "execution_count": 15,
   "metadata": {},
   "outputs": [],
   "source": [
    "program = cl.Program(context, Params + SpatialFunctions + ComputeCode).build()"
   ]
  },
  {
   "cell_type": "code",
   "execution_count": null,
   "metadata": {
    "scrolled": true
   },
   "outputs": [
    {
     "name": "stdout",
     "output_type": "stream",
     "text": [
      "Progress :\n"
     ]
    },
    {
     "data": {
      "application/vnd.jupyter.widget-view+json": {
       "model_id": "8816fa1b17044103acb94d7da8dd8279",
       "version_major": 2,
       "version_minor": 0
      },
      "text/plain": [
       "FloatProgress(value=0.0)"
      ]
     },
     "metadata": {},
     "output_type": "display_data"
    },
    {
     "name": "stderr",
     "output_type": "stream",
     "text": [
      "/opt/anaconda3/lib/python3.8/site-packages/pytools/persistent_dict.py:484: UserWarning: could not obtain lock--delete '/Users/qxliu/Library/Caches/pytools/pdict-v4-pyopencl-invoker-cache-v7-py3.8.5.final.0/72a18d6fef0605601ff4ca0da8675e46dcfc02fab64df8ccc8361db26cfd1bbe.lock' if necessary\n",
      "  self.store(key, value, _skip_if_present=True, _stacklevel=1 + _stacklevel)\n"
     ]
    }
   ],
   "source": [
    "from ipywidgets import FloatProgress\n",
    "from IPython.display import display\n",
    "\n",
    "# Setting up a progress bar for the simulation\n",
    "print(\"Progress :\");\n",
    "PB = FloatProgress(min=0, max=nplot); display(PB) \n",
    "\n",
    "As=np.zeros((Grid_Width, Grid_Height, nplot))\n",
    "Bs=np.zeros((Grid_Width, Grid_Height, nplot))\n",
    "\n",
    "# Set up simulation parameters\n",
    "global_size = A_host.shape\n",
    "\n",
    "# Start the timer:\n",
    "start_time = time.time()\n",
    "\n",
    "# Starting the loop\n",
    "for ii in range(1,nplot):\n",
    "    # The simulation\n",
    "    for jj in range(1,nsteps):      \n",
    "        program.SimulationKernel(queue, global_size, None, A_g, B_g, Da_arr_g)\n",
    "\n",
    "    # Get the data from the GPU\n",
    "    cl.enqueue_copy(queue, A_host, A_g)\n",
    "    cl.enqueue_copy(queue, B_host, B_g)\n",
    "\n",
    "    # We store the state of the system for <NumPlot> different times.\n",
    "    As[:,:,ii] = A_host.reshape(Grid_Width, Grid_Height)\n",
    "    Bs[:,:,ii] = B_host.reshape(Grid_Width, Grid_Height)\n",
    "    print(ii,end=\" \")\n",
    "#     PB.value += 1 # signal to increment the progress bar\n",
    "\n",
    "# Determining the time that we used for the simulation\n",
    "elapsed_time = time.time() - start_time    \n",
    "print(\" Simulation took      : %1.1f (s)\" % (elapsed_time))\n"
   ]
  },
  {
   "cell_type": "code",
   "execution_count": null,
   "metadata": {},
   "outputs": [],
   "source": [
    "from scipy import io\n",
    "import os\n",
    "if not os.path.exists(\"data\"):\n",
    "    os.makedirs(\"data\")\n",
    "io.savemat('data/UV_data.mat', {'A': As, 'B': Bs, 'Detlta': Da_arr, 'Tau': T})\n",
    "\n",
    "# load data: mathfn.mat from Matlab\n",
    "# data = io.loadmat(matfn) "
   ]
  },
  {
   "cell_type": "markdown",
   "metadata": {},
   "source": [
    "# Plotting the results"
   ]
  },
  {
   "cell_type": "code",
   "execution_count": null,
   "metadata": {
    "scrolled": true
   },
   "outputs": [],
   "source": [
    "### The Simulation loop\n",
    "nbin=4\n",
    "# viridis, Reds, Greens, YlGn\n",
    "from matplotlib import ticker\n",
    "fig, ax = plt.subplots(1, 2, figsize=(10, 5))\n",
    "im0 = ax[0].imshow(A_host.reshape(n,n),interpolation='nearest', cmap='YlGn',\n",
    "                   extent=[0,length,0,length],clim=(0,BioMax));#, clim=(0,0.1));\n",
    "ax[0].set_title('U density (g/m$^2$)');\n",
    "cbar=plt.colorbar(im0, ax=ax[0],fraction=0.046,pad=0.04);\n",
    "tick_locator = ticker.MaxNLocator(nbins=5)\n",
    "cbar.locator = tick_locator\n",
    "cbar.update_ticks()\n",
    "# Xlabels = np.linspace(BioMin,BioMax,nbin).round(1)\n",
    "Xlabels = np.logspace(np.log10(BioMin),np.log10(BioMax),nbin).round(0)\n",
    "Ylabels = np.linspace(1.0/DeltaMax,1.0/DeltaMin,nbin).round(0)\n",
    "ax[0].set_xticks(np.linspace(0,length,nbin))\n",
    "ax[0].set_xticklabels(Xlabels)\n",
    "ax[0].set_yticks(np.linspace(0,length,nbin))\n",
    "ax[0].set_yticklabels(Ylabels)\n",
    "ax[0].set_xlabel('global density, $\\\\tau$');\n",
    "ax[0].set_ylabel('diffusion ratio, $\\delta$');\n",
    "\n",
    "im1 = ax[1].imshow(B_host.reshape(n,n),interpolation='nearest',cmap='YlGn',\n",
    "                   extent=[0,length,0,length],clim=(0,2));#, clim=(0,0.5));\n",
    "ax[1].set_title('V density (g/m$^2$)');\n",
    "cbar=plt.colorbar(im1, ax=ax[1],fraction=0.046,pad=0.04);\n",
    "tick_locator = ticker.MaxNLocator(nbins=5)\n",
    "cbar.locator = tick_locator\n",
    "cbar.update_ticks()\n",
    "# Xlabels = np.linspace(BioMin,BioMax,nbin).round(0)\n",
    "Xlabels = np.logspace(np.log10(BioMin),np.log10(BioMax),nbin).round(0)\n",
    "Ylabels = np.linspace(1.0/DeltaMax,1.0/DeltaMin,nbin).round(0)\n",
    "ax[1].set_xticks(np.linspace(0,length,nbin))\n",
    "ax[1].set_xticklabels(Xlabels)\n",
    "ax[1].set_yticks(np.linspace(0,length,nbin))\n",
    "ax[1].set_yticklabels(Ylabels)\n",
    "ax[1].set_xlabel('global density, $\\\\tau$');\n",
    "# ax[1].set_ylabel('diffusion ratio, $\\delta$');\n",
    "\n",
    "\n",
    "fig.tight_layout()\n",
    "\n",
    "text=fig.suptitle(\"Time: %1.0f of %1.0f\" % (endtime, endtime), x=0.5, y=0.00, fontsize=16);"
   ]
  },
  {
   "cell_type": "markdown",
   "metadata": {},
   "source": [
    "# Making a movie"
   ]
  },
  {
   "cell_type": "code",
   "execution_count": null,
   "metadata": {},
   "outputs": [],
   "source": [
    "from matplotlib import animation, rc\n",
    "if not os.path.exists(\"Images\"):\n",
    "    os.makedirs(\"Images\")\n",
    "    \n",
    "def updatefig(i): # To update the image at each iteration\n",
    "    global As, Bs\n",
    "    im0.set_array(As[:,:,i])\n",
    "    im1.set_array(Bs[:,:,i])\n",
    "    text.set_text(\"Time: %1.0f of %1.0f\" % ((i+1)/nplot*endtime, endtime));\n",
    "    fig.savefig('Images/Images %03g'% i+'.pdf',bbox_inches='tight',dpi=600)\n",
    "    return im0,im1,\n",
    "\n",
    "ani = animation.FuncAnimation(fig, updatefig, interval=100, frames = nplot, repeat=False, blit=True)\n",
    "print(\"Save figure finshes!\")"
   ]
  },
  {
   "cell_type": "code",
   "execution_count": null,
   "metadata": {},
   "outputs": [],
   "source": [
    "# print('time%03g'% 5+\"test\")"
   ]
  },
  {
   "cell_type": "code",
   "execution_count": null,
   "metadata": {},
   "outputs": [],
   "source": [
    "from IPython.display import HTML\n",
    "HTML(ani.to_html5_video()) \n",
    "# write to an mp4 movie\n",
    "Writer = animation.writers['ffmpeg']\n",
    "writer = Writer(fps=5, bitrate=1800)\n",
    "ani.save('PSModel_scaled_T_Da.mp4', writer=writer)\n",
    "print(\"Save movies finshes!\")"
   ]
  },
  {
   "cell_type": "markdown",
   "metadata": {},
   "source": [
    "## The End, Kang. 2020.0709 ECNU"
   ]
  }
 ],
 "metadata": {
  "kernelspec": {
   "display_name": "Python 3",
   "language": "python",
   "name": "python3"
  },
  "language_info": {
   "codemirror_mode": {
    "name": "ipython",
    "version": 3
   },
   "file_extension": ".py",
   "mimetype": "text/x-python",
   "name": "python",
   "nbconvert_exporter": "python",
   "pygments_lexer": "ipython3",
   "version": "3.8.5"
  }
 },
 "nbformat": 4,
 "nbformat_minor": 4
}
